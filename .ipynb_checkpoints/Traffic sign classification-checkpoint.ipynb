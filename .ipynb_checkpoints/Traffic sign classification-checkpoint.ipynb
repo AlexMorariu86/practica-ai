{
 "cells": [
  {
   "cell_type": "markdown",
   "id": "2b7a387e-cb0a-4982-b955-040de5f0f376",
   "metadata": {},
   "source": [
    "## Import libraries"
   ]
  },
  {
   "cell_type": "code",
   "execution_count": 27,
   "id": "e329a42c-7f2f-4581-832f-71ebf0d88229",
   "metadata": {},
   "outputs": [],
   "source": [
    "import pandas as pd\n",
    "from PIL import Image\n",
    "import matplotlib.pyplot as plt\n",
    "import numpy as np\n"
   ]
  },
  {
   "cell_type": "markdown",
   "id": "623b14ba-4821-4e48-8c2e-a7f34655cbee",
   "metadata": {},
   "source": [
    "# Load dataset"
   ]
  },
  {
   "cell_type": "code",
   "execution_count": 28,
   "id": "c03323bd-cabf-4f2c-8662-007b277e9ccc",
   "metadata": {},
   "outputs": [],
   "source": [
    "df = pd.read_csv(\"gtsrb_dataset.csv\")"
   ]
  },
  {
   "cell_type": "markdown",
   "id": "2389392e-111c-4b2f-b231-e71348e3d23a",
   "metadata": {},
   "source": [
    "### relevant classes"
   ]
  },
  {
   "cell_type": "code",
   "execution_count": 42,
   "id": "53f62121-ff2e-44b7-87e9-a1dce5407754",
   "metadata": {},
   "outputs": [],
   "source": [
    "speed_classes = [1, 2, 3, 4, 5, 7, 8, 9, 10, 12]"
   ]
  },
  {
   "cell_type": "markdown",
   "id": "2bf033c0-b646-4a24-b529-74a76eedb8cb",
   "metadata": {},
   "source": [
    "### change label"
   ]
  },
  {
   "cell_type": "code",
   "execution_count": 43,
   "id": "9f0a38d0-cf7d-4540-ad78-32a6cdbbb498",
   "metadata": {},
   "outputs": [
    {
     "name": "stdout",
     "output_type": "stream",
     "text": [
      "      label                            path\n",
      "0         0  ./GTSRB_png/01/train_00150.png\n",
      "1         0  ./GTSRB_png/01/train_00151.png\n",
      "2         0  ./GTSRB_png/01/train_00152.png\n",
      "3         0  ./GTSRB_png/01/train_00153.png\n",
      "4         0  ./GTSRB_png/01/train_00154.png\n",
      "...     ...                             ...\n",
      "18145     4   ./GTSRB_png/05/test_12621.png\n",
      "18146     9   ./GTSRB_png/12/test_12622.png\n",
      "18147     9   ./GTSRB_png/12/test_12625.png\n",
      "18148     5   ./GTSRB_png/07/test_12628.png\n",
      "18149     8   ./GTSRB_png/10/test_12629.png\n",
      "\n",
      "[18150 rows x 2 columns]\n"
     ]
    }
   ],
   "source": [
    "new_labels = {\n",
    "    1: 0,\n",
    "    2: 1,\n",
    "    3: 2,\n",
    "    4: 3,\n",
    "    5: 4,\n",
    "    7: 5,\n",
    "    8: 6,\n",
    "    9: 7,\n",
    "    10: 8,\n",
    "    12: 9,\n",
    "}\n",
    "\n",
    "df_speed = pd.DataFrame(columns=df.columns)\n",
    "\n",
    "for index, row in df.iterrows():\n",
    "    original_label = row[\"label\"]\n",
    "    if original_label in speed_classes:\n",
    "        \n",
    "        \n",
    "        new_row = row.copy()\n",
    "\n",
    "        new_label = new_labels[original_label]\n",
    "        new_row[\"label\"] = new_label\n",
    "\n",
    "        df_speed = pd.concat([df_speed, pd.DataFrame([new_row])], ignore_index=True)\n",
    "print(df_speed)"
   ]
  },
  {
   "cell_type": "markdown",
   "id": "1072bacb-29c6-41e6-83ff-1da6c0f34a5f",
   "metadata": {},
   "source": [
    "### see the distribution of the dataset"
   ]
  },
  {
   "cell_type": "code",
   "execution_count": 44,
   "id": "c09eca4b-a214-449d-92cb-6bf0456421ed",
   "metadata": {},
   "outputs": [
    {
     "name": "stdout",
     "output_type": "stream",
     "text": [
      "Distribuția etichetelor:\n",
      "Etichetă 0: 2220 exemple\n",
      "Etichetă 1: 2250 exemple\n",
      "Etichetă 2: 1410 exemple\n",
      "Etichetă 3: 1980 exemple\n",
      "Etichetă 4: 1890 exemple\n",
      "Etichetă 5: 1410 exemple\n",
      "Etichetă 6: 1410 exemple\n",
      "Etichetă 7: 1470 exemple\n",
      "Etichetă 8: 2010 exemple\n",
      "Etichetă 9: 2100 exemple\n"
     ]
    },
    {
     "data": {
      "image/png": "[encoded data removed]",
      "text/plain": [
       "<Figure size 800x500 with 1 Axes>"
      ]
     },
     "metadata": {},
     "output_type": "display_data"
    }
   ],
   "source": [
    "counts = df_speed[\"label\"].value_counts().sort_index()\n",
    "\n",
    "# Afișăm valorile în consolă\n",
    "print(\"Distribuția etichetelor:\")\n",
    "for label, count in counts.items():\n",
    "    print(f\"Etichetă {label}: {count} exemple\")\n",
    "\n",
    "# Afișăm graficul\n",
    "plt.figure(figsize=(8, 5))\n",
    "counts.plot(kind=\"bar\")\n",
    "plt.title(\"Distribuția etichetelor în dataset\")\n",
    "plt.xlabel(\"Etichetă\")\n",
    "plt.ylabel(\"Număr de exemple\")\n",
    "plt.grid(axis='y')\n",
    "plt.show()"
   ]
  },
  {
   "cell_type": "markdown",
   "id": "32322a1d-a92a-4f16-97a4-8e99c5340266",
   "metadata": {},
   "source": [
    "### Balance the dataframe"
   ]
  },
  {
   "cell_type": "code",
   "execution_count": 45,
   "id": "a188d789-4aba-4e02-9120-1eb64871bb10",
   "metadata": {},
   "outputs": [],
   "source": [
    "\n",
    "balanced_df = []\n",
    "max_per_class = 1000\n",
    "for label,count in counts.items():\n",
    "    df_label = df_speed[df_speed['label'] == label]\n",
    "    if len(df_label) > max_per_class:\n",
    "        df_sample = df_label.sample(n=max_per_class, random_state=10)\n",
    "        balanced_df.append(df_sample)\n",
    "    else:\n",
    "        balanced_df.append(df_label)\n",
    "\n",
    "df_speed = pd.concat(balanced_df).reset_index(drop=True)"
   ]
  },
  {
   "cell_type": "markdown",
   "id": "25df5446-e422-4b7c-97ed-22010422e9ad",
   "metadata": {},
   "source": [
    "### see the new distribution"
   ]
  },
  {
   "cell_type": "code",
   "execution_count": 46,
   "id": "2b266a18-fda6-487c-beca-6462930da236",
   "metadata": {},
   "outputs": [
    {
     "name": "stdout",
     "output_type": "stream",
     "text": [
      "Distribuția etichetelor:\n",
      "Etichetă 0: 1000 exemple\n",
      "Etichetă 1: 1000 exemple\n",
      "Etichetă 2: 1000 exemple\n",
      "Etichetă 3: 1000 exemple\n",
      "Etichetă 4: 1000 exemple\n",
      "Etichetă 5: 1000 exemple\n",
      "Etichetă 6: 1000 exemple\n",
      "Etichetă 7: 1000 exemple\n",
      "Etichetă 8: 1000 exemple\n",
      "Etichetă 9: 1000 exemple\n"
     ]
    },
    {
     "data": {
      "image/png": "[encoded data removed]",
      "text/plain": [
       "<Figure size 800x500 with 1 Axes>"
      ]
     },
     "metadata": {},
     "output_type": "display_data"
    }
   ],
   "source": [
    "counts = df_speed[\"label\"].value_counts().sort_index()\n",
    "\n",
    "# Afișăm valorile în consolă\n",
    "print(\"Distribuția etichetelor:\")\n",
    "for label, count in counts.items():\n",
    "    print(f\"Etichetă {label}: {count} exemple\")\n",
    "\n",
    "# Afișăm graficul\n",
    "plt.figure(figsize=(8, 5))\n",
    "counts.plot(kind=\"bar\")\n",
    "plt.title(\"Distribuția etichetelor în dataset\")\n",
    "plt.xlabel(\"Etichetă\")\n",
    "plt.ylabel(\"Număr de exemple\")\n",
    "plt.grid(axis='y')\n",
    "plt.show()"
   ]
  },
  {
   "cell_type": "markdown",
   "id": "89106b26-402f-49b5-9c3b-b51454e62b28",
   "metadata": {},
   "source": [
    "## Prepare test train datasets"
   ]
  },
  {
   "cell_type": "markdown",
   "id": "5b9d0d41-fbb9-4b4a-92a0-4c5d08b21057",
   "metadata": {},
   "source": [
    "### shuffle the dataset"
   ]
  },
  {
   "cell_type": "code",
   "execution_count": 47,
   "id": "406fd764-0841-450c-9e03-aca9d0f69602",
   "metadata": {},
   "outputs": [],
   "source": [
    "df_shuffled = df_speed.sample(frac=1, random_state=42).reset_index(drop=True)"
   ]
  },
  {
   "cell_type": "markdown",
   "id": "bfdc0814-1115-42f4-a322-10aabae07559",
   "metadata": {},
   "source": [
    "### split the dataset"
   ]
  },
  {
   "cell_type": "code",
   "execution_count": 48,
   "id": "e5d313e0-94f3-49e8-9e0e-118197facff2",
   "metadata": {},
   "outputs": [
    {
     "name": "stdout",
     "output_type": "stream",
     "text": [
      "Train: 8000 – Test: 2000\n"
     ]
    }
   ],
   "source": [
    "train_test_ratio = 0.8\n",
    "train_size = (int)(len(df_shuffled) *0.8)\n",
    "test_size = len(df_shuffled) - train_size\n",
    "df_train    = df_shuffled.iloc[:train_size].reset_index(drop=True)\n",
    "df_test     = df_shuffled.iloc[train_size:].reset_index(drop=True)\n",
    "\n",
    "print(\"Train:\", len(df_train), \"– Test:\", len(df_test))"
   ]
  },
  {
   "cell_type": "markdown",
   "id": "928f618f-0fc5-44a9-a451-b669825cd54b",
   "metadata": {},
   "source": [
    "### Preprocess images"
   ]
  },
  {
   "cell_type": "markdown",
   "id": "90341764-e68d-46a7-9c68-eedf2093c368",
   "metadata": {},
   "source": [
    "### image size"
   ]
  },
  {
   "cell_type": "code",
   "execution_count": 49,
   "id": "0672c520-dffe-44cb-bafc-9b98cca739cf",
   "metadata": {},
   "outputs": [],
   "source": [
    "image_size = (50,50)"
   ]
  },
  {
   "cell_type": "code",
   "execution_count": 50,
   "id": "dd10bbe3-c9ef-4ecc-a355-e5af3668fa56",
   "metadata": {},
   "outputs": [],
   "source": [
    "\n",
    "def preprocess_image(img, size=image_size):\n",
    "    img = img.resize(size)\n",
    "    img = img.convert(\"L\")\n",
    "    arr = np.array(img, dtype=np.float32)   \n",
    "    arr = arr.flatten()\n",
    "    arr /= 255\n",
    "    return arr"
   ]
  },
  {
   "cell_type": "markdown",
   "id": "1442c3d5-296f-44a9-94e9-9701aade3279",
   "metadata": {},
   "source": [
    "### one hot encoding function"
   ]
  },
  {
   "cell_type": "code",
   "execution_count": 51,
   "id": "16709ac3-ee01-45e7-8a9f-6b9694d1d9c8",
   "metadata": {},
   "outputs": [],
   "source": [
    "  \n",
    "def one_hot(Y, num_classes):\n",
    "    Y = Y.astype(int)\n",
    "    m = Y.shape[0]\n",
    "    Y_oh = np.zeros((num_classes, m), dtype=np.int32)\n",
    "    Y_oh[Y, np.arange(m)] = 1\n",
    "    return Y_oh"
   ]
  },
  {
   "cell_type": "markdown",
   "id": "03f94743-8617-417e-9554-10ba3ebb89e9",
   "metadata": {},
   "source": [
    "### change dataset format"
   ]
  },
  {
   "cell_type": "markdown",
   "id": "2bacd855-c98a-41eb-b34a-0abb2c584418",
   "metadata": {},
   "source": [
    "### Prepare train df"
   ]
  },
  {
   "cell_type": "code",
   "execution_count": 52,
   "id": "55d9089c-7fdf-4d6f-b10d-4776a98ed61b",
   "metadata": {
    "scrolled": true
   },
   "outputs": [
    {
     "name": "stdout",
     "output_type": "stream",
     "text": [
      "(8000, 2500)\n",
      "(2500, 8000)\n"
     ]
    },
    {
     "ename": "IndexError",
     "evalue": "index 6 is out of bounds for axis 0 with size 6",
     "output_type": "error",
     "traceback": [
      "\u001b[31m---------------------------------------------------------------------------\u001b[39m",
      "\u001b[31mIndexError\u001b[39m                                Traceback (most recent call last)",
      "\u001b[36mCell\u001b[39m\u001b[36m \u001b[39m\u001b[32mIn[52]\u001b[39m\u001b[32m, line 11\u001b[39m\n\u001b[32m      9\u001b[39m X_train = X_train.T\n\u001b[32m     10\u001b[39m \u001b[38;5;28mprint\u001b[39m(X_train.shape)\n\u001b[32m---> \u001b[39m\u001b[32m11\u001b[39m Y_train = \u001b[43mone_hot\u001b[49m\u001b[43m(\u001b[49m\u001b[43mnp\u001b[49m\u001b[43m.\u001b[49m\u001b[43marray\u001b[49m\u001b[43m(\u001b[49m\u001b[43mdf_train\u001b[49m\u001b[43m[\u001b[49m\u001b[33;43m\"\u001b[39;49m\u001b[33;43mlabel\u001b[39;49m\u001b[33;43m\"\u001b[39;49m\u001b[43m]\u001b[49m\u001b[43m.\u001b[49m\u001b[43mvalues\u001b[49m\u001b[43m.\u001b[49m\u001b[43mastype\u001b[49m\u001b[43m(\u001b[49m\u001b[33;43m\"\u001b[39;49m\u001b[33;43mfloat32\u001b[39;49m\u001b[33;43m\"\u001b[39;49m\u001b[43m)\u001b[49m\u001b[43m)\u001b[49m\u001b[43m,\u001b[49m\u001b[43m \u001b[49m\u001b[43mnum_classes\u001b[49m\u001b[43m)\u001b[49m\n",
      "\u001b[36mCell\u001b[39m\u001b[36m \u001b[39m\u001b[32mIn[51]\u001b[39m\u001b[32m, line 5\u001b[39m, in \u001b[36mone_hot\u001b[39m\u001b[34m(Y, num_classes)\u001b[39m\n\u001b[32m      3\u001b[39m m = Y.shape[\u001b[32m0\u001b[39m]\n\u001b[32m      4\u001b[39m Y_oh = np.zeros((num_classes, m), dtype=np.int32)\n\u001b[32m----> \u001b[39m\u001b[32m5\u001b[39m \u001b[43mY_oh\u001b[49m\u001b[43m[\u001b[49m\u001b[43mY\u001b[49m\u001b[43m,\u001b[49m\u001b[43m \u001b[49m\u001b[43mnp\u001b[49m\u001b[43m.\u001b[49m\u001b[43marange\u001b[49m\u001b[43m(\u001b[49m\u001b[43mm\u001b[49m\u001b[43m)\u001b[49m\u001b[43m]\u001b[49m = \u001b[32m1\u001b[39m\n\u001b[32m      6\u001b[39m \u001b[38;5;28;01mreturn\u001b[39;00m Y_oh\n",
      "\u001b[31mIndexError\u001b[39m: index 6 is out of bounds for axis 0 with size 6"
     ]
    }
   ],
   "source": [
    "total_pixels = image_size[0]*image_size[1]\n",
    "num_classes = 6\n",
    "number_images = len(df_train)\n",
    "\n",
    "X_train = np.zeros((number_images, total_pixels), dtype=np.float32)\n",
    "for i, path in enumerate(df_train[\"path\"]):\n",
    "    X_train[i,:] = preprocess_image(Image.open(path))\n",
    "print(X_train.shape)\n",
    "X_train = X_train.T\n",
    "print(X_train.shape)\n",
    "Y_train = one_hot(np.array(df_train[\"label\"].values.astype(\"float32\")), num_classes)\n",
    "\n"
   ]
  },
  {
   "cell_type": "markdown",
   "id": "0262baf8-26ca-4c23-b343-180419e80c6f",
   "metadata": {},
   "source": [
    "### Prepare test df"
   ]
  },
  {
   "cell_type": "code",
   "execution_count": null,
   "id": "e0fbe665-f4c6-421c-a871-5d61132bae71",
   "metadata": {},
   "outputs": [],
   "source": [
    "number_images = len(df_test)\n",
    "m_test = len(df_test)\n",
    "X_test = np.zeros((total_pixels, number_images), dtype=np.float32)\n",
    "for i, path in enumerate(df_test[\"path\"]):\n",
    "    X_test[:, i] = preprocess_image(Image.open(path))\n",
    "Y_test = one_hot(np.array(df_test[\"label\"].values.astype(\"float32\")), num_classes)\n",
    "print(X_test.shape)"
   ]
  },
  {
   "cell_type": "markdown",
   "id": "0cdd4668-ab94-4a48-a72d-452a6c9ebf43",
   "metadata": {},
   "source": [
    "## Homework 2: Use tensorflow to create and train the neural network "
   ]
  },
  {
   "cell_type": "markdown",
   "id": "81626737-2cd4-48b3-a8c5-829d4f4b604a",
   "metadata": {},
   "source": [
    "#### Do not change the code from above (you can correct errors)"
   ]
  },
  {
   "cell_type": "code",
   "execution_count": null,
   "id": "4c9c6416-fbb8-40ba-80b0-481da36269db",
   "metadata": {},
   "outputs": [],
   "source": [
    "import tensorflow"
   ]
  },
  {
   "cell_type": "code",
   "execution_count": null,
   "id": "34747ff6-75ad-4300-9740-ffcb08acd3ff",
   "metadata": {},
   "outputs": [],
   "source": []
  }
 ],
 "metadata": {
  "kernelspec": {
   "display_name": "Python 3 (ipykernel)",
   "language": "python",
   "name": "python3"
  },
  "language_info": {
   "codemirror_mode": {
    "name": "ipython",
    "version": 3
   },
   "file_extension": ".py",
   "mimetype": "text/x-python",
   "name": "python",
   "nbconvert_exporter": "python",
   "pygments_lexer": "ipython3",
   "version": "3.12.3"
  }
 },
 "nbformat": 4,
 "nbformat_minor": 5
}
